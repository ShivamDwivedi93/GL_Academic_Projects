{
 "cells": [
  {
   "cell_type": "markdown",
   "id": "d3643919",
   "metadata": {},
   "source": [
    "#### Problem 1 : Cold Storage started its operations in Jan 2016. They are in the business of storing Pasteurized Fresh, Whole or Skimmed Milk, Sweet Cream, Flavoured Milk Drinks. To ensure that there is no change of texture, body appearance, separation of fats the optimal temperature to be maintained is between 2º - 4º C. In the first year of business, they outsourced the plant maintenance work to a professional company with stiff penalty clauses. It was agreed that if it was statistically proven that the probability of temperature going outside the 2º - 4º C during the one-year contract was above 2.5% and less than 5% then the penalty would be 10% of AMC (annual maintenance case). In case it exceeded 5% then the penalty would be 25% of the AMC fee. The average temperature data at the date level is given in the file “Cold_Storage_Temp_Data_.csv”\n",
    "\n",
    "1. Find mean cold storage temperature for Summer, Winter, and Rainy Season. (7 marks)\n",
    "2. Find the overall mean for the full year. (7 marks)\n",
    "3. Find Standard Deviation for the full year. (7 marks)\n",
    "4. Assume Normal distribution, what is the probability of temperature having fallen below 2º C? (7 marks)\n",
    "5. Assume Normal distribution, what is the probability of temperature having gone above 4º C? (7 marks)\n",
    "6. What will be the penalty for the AMC Company? (5 marks)\n"
   ]
  },
  {
   "cell_type": "code",
   "execution_count": 1,
   "id": "1f0f459e",
   "metadata": {},
   "outputs": [],
   "source": [
    "# Importing librabries\n",
    "\n",
    "import pandas as pd\n",
    "import numpy as np\n",
    "import matplotlib.pyplot as plt\n",
    "import seaborn as sns\n",
    "import scipy.stats as stats\n",
    "from scipy.stats import ttest_1samp,ttest_ind"
   ]
  },
  {
   "cell_type": "code",
   "execution_count": 2,
   "id": "171acfbe",
   "metadata": {},
   "outputs": [],
   "source": [
    "# Loading dataset\n",
    "\n",
    "cold_storage = pd.read_csv('D:\\\\Study\\\\Data Science and Machine Learning\\\\Great_learning course\\\\Main content\\\\Module2-  SMDM- Statistical Methods For Decision Making\\\\Week 4- Project\\\\Cold_Storage_Temp_Data_-1 (1).csv')"
   ]
  },
  {
   "cell_type": "code",
   "execution_count": 3,
   "id": "4e00c391",
   "metadata": {},
   "outputs": [
    {
     "data": {
      "text/html": [
       "<div>\n",
       "<style scoped>\n",
       "    .dataframe tbody tr th:only-of-type {\n",
       "        vertical-align: middle;\n",
       "    }\n",
       "\n",
       "    .dataframe tbody tr th {\n",
       "        vertical-align: top;\n",
       "    }\n",
       "\n",
       "    .dataframe thead th {\n",
       "        text-align: right;\n",
       "    }\n",
       "</style>\n",
       "<table border=\"1\" class=\"dataframe\">\n",
       "  <thead>\n",
       "    <tr style=\"text-align: right;\">\n",
       "      <th></th>\n",
       "      <th>Season</th>\n",
       "      <th>Month</th>\n",
       "      <th>Date</th>\n",
       "      <th>Temperature</th>\n",
       "    </tr>\n",
       "  </thead>\n",
       "  <tbody>\n",
       "    <tr>\n",
       "      <th>0</th>\n",
       "      <td>Winter</td>\n",
       "      <td>Jan</td>\n",
       "      <td>1</td>\n",
       "      <td>2.3</td>\n",
       "    </tr>\n",
       "    <tr>\n",
       "      <th>1</th>\n",
       "      <td>Winter</td>\n",
       "      <td>Jan</td>\n",
       "      <td>2</td>\n",
       "      <td>2.2</td>\n",
       "    </tr>\n",
       "    <tr>\n",
       "      <th>2</th>\n",
       "      <td>Winter</td>\n",
       "      <td>Jan</td>\n",
       "      <td>3</td>\n",
       "      <td>2.4</td>\n",
       "    </tr>\n",
       "    <tr>\n",
       "      <th>3</th>\n",
       "      <td>Winter</td>\n",
       "      <td>Jan</td>\n",
       "      <td>4</td>\n",
       "      <td>2.8</td>\n",
       "    </tr>\n",
       "    <tr>\n",
       "      <th>4</th>\n",
       "      <td>Winter</td>\n",
       "      <td>Jan</td>\n",
       "      <td>5</td>\n",
       "      <td>2.5</td>\n",
       "    </tr>\n",
       "  </tbody>\n",
       "</table>\n",
       "</div>"
      ],
      "text/plain": [
       "   Season Month  Date  Temperature\n",
       "0  Winter   Jan     1          2.3\n",
       "1  Winter   Jan     2          2.2\n",
       "2  Winter   Jan     3          2.4\n",
       "3  Winter   Jan     4          2.8\n",
       "4  Winter   Jan     5          2.5"
      ]
     },
     "execution_count": 3,
     "metadata": {},
     "output_type": "execute_result"
    }
   ],
   "source": [
    "# Checking first 5 rows of the data set.\n",
    "\n",
    "cold_storage.head()"
   ]
  },
  {
   "cell_type": "code",
   "execution_count": 4,
   "id": "4f50893a",
   "metadata": {},
   "outputs": [
    {
     "data": {
      "text/html": [
       "<div>\n",
       "<style scoped>\n",
       "    .dataframe tbody tr th:only-of-type {\n",
       "        vertical-align: middle;\n",
       "    }\n",
       "\n",
       "    .dataframe tbody tr th {\n",
       "        vertical-align: top;\n",
       "    }\n",
       "\n",
       "    .dataframe thead th {\n",
       "        text-align: right;\n",
       "    }\n",
       "</style>\n",
       "<table border=\"1\" class=\"dataframe\">\n",
       "  <thead>\n",
       "    <tr style=\"text-align: right;\">\n",
       "      <th></th>\n",
       "      <th>Date</th>\n",
       "      <th>Temperature</th>\n",
       "    </tr>\n",
       "  </thead>\n",
       "  <tbody>\n",
       "    <tr>\n",
       "      <th>count</th>\n",
       "      <td>365.000000</td>\n",
       "      <td>365.000000</td>\n",
       "    </tr>\n",
       "    <tr>\n",
       "      <th>mean</th>\n",
       "      <td>15.720548</td>\n",
       "      <td>3.002466</td>\n",
       "    </tr>\n",
       "    <tr>\n",
       "      <th>std</th>\n",
       "      <td>8.808321</td>\n",
       "      <td>0.465832</td>\n",
       "    </tr>\n",
       "    <tr>\n",
       "      <th>min</th>\n",
       "      <td>1.000000</td>\n",
       "      <td>1.700000</td>\n",
       "    </tr>\n",
       "    <tr>\n",
       "      <th>25%</th>\n",
       "      <td>8.000000</td>\n",
       "      <td>2.700000</td>\n",
       "    </tr>\n",
       "    <tr>\n",
       "      <th>50%</th>\n",
       "      <td>16.000000</td>\n",
       "      <td>3.000000</td>\n",
       "    </tr>\n",
       "    <tr>\n",
       "      <th>75%</th>\n",
       "      <td>23.000000</td>\n",
       "      <td>3.300000</td>\n",
       "    </tr>\n",
       "    <tr>\n",
       "      <th>max</th>\n",
       "      <td>31.000000</td>\n",
       "      <td>4.500000</td>\n",
       "    </tr>\n",
       "  </tbody>\n",
       "</table>\n",
       "</div>"
      ],
      "text/plain": [
       "             Date  Temperature\n",
       "count  365.000000   365.000000\n",
       "mean    15.720548     3.002466\n",
       "std      8.808321     0.465832\n",
       "min      1.000000     1.700000\n",
       "25%      8.000000     2.700000\n",
       "50%     16.000000     3.000000\n",
       "75%     23.000000     3.300000\n",
       "max     31.000000     4.500000"
      ]
     },
     "execution_count": 4,
     "metadata": {},
     "output_type": "execute_result"
    }
   ],
   "source": [
    "# Checking data summary\n",
    "\n",
    "cold_storage.describe()"
   ]
  },
  {
   "cell_type": "code",
   "execution_count": 5,
   "id": "d97e46ed",
   "metadata": {},
   "outputs": [
    {
     "name": "stdout",
     "output_type": "stream",
     "text": [
      "<class 'pandas.core.frame.DataFrame'>\n",
      "RangeIndex: 365 entries, 0 to 364\n",
      "Data columns (total 4 columns):\n",
      " #   Column       Non-Null Count  Dtype  \n",
      "---  ------       --------------  -----  \n",
      " 0   Season       365 non-null    object \n",
      " 1   Month        365 non-null    object \n",
      " 2   Date         365 non-null    int64  \n",
      " 3   Temperature  365 non-null    float64\n",
      "dtypes: float64(1), int64(1), object(2)\n",
      "memory usage: 11.5+ KB\n"
     ]
    }
   ],
   "source": [
    "#Checking information.\n",
    "\n",
    "cold_storage.info()"
   ]
  },
  {
   "cell_type": "code",
   "execution_count": 6,
   "id": "3e83b6f1",
   "metadata": {},
   "outputs": [
    {
     "data": {
      "text/plain": [
       "Season         0\n",
       "Month          0\n",
       "Date           0\n",
       "Temperature    0\n",
       "dtype: int64"
      ]
     },
     "execution_count": 6,
     "metadata": {},
     "output_type": "execute_result"
    }
   ],
   "source": [
    "# Checking missing values in the data set.\n",
    "cold_storage.isnull().sum()"
   ]
  },
  {
   "cell_type": "code",
   "execution_count": 7,
   "id": "96276ce5",
   "metadata": {},
   "outputs": [
    {
     "data": {
      "text/plain": [
       "0"
      ]
     },
     "execution_count": 7,
     "metadata": {},
     "output_type": "execute_result"
    }
   ],
   "source": [
    "# Checking duplicate values in the data set.\n",
    "\n",
    "cold_storage.duplicated().sum()"
   ]
  },
  {
   "cell_type": "code",
   "execution_count": 8,
   "id": "73243156",
   "metadata": {},
   "outputs": [
    {
     "data": {
      "text/plain": [
       "Winter    123\n",
       "Rainy     122\n",
       "Summer    120\n",
       "Name: Season, dtype: int64"
      ]
     },
     "execution_count": 8,
     "metadata": {},
     "output_type": "execute_result"
    }
   ],
   "source": [
    "# Converting column 'Season' into dtype 'Category'.\n",
    "\n",
    "cold_storage.Season = pd.Categorical(cold_storage.Season)\n",
    "cold_storage.Season.value_counts()"
   ]
  },
  {
   "cell_type": "code",
   "execution_count": 9,
   "id": "27641292",
   "metadata": {},
   "outputs": [
    {
     "data": {
      "text/plain": [
       "Aug    31\n",
       "Dec    31\n",
       "Jan    31\n",
       "Jul    31\n",
       "Mar    31\n",
       "May    31\n",
       "Oct    31\n",
       "Apr    30\n",
       "Jun    30\n",
       "Nov    30\n",
       "Sep    30\n",
       "Feb    28\n",
       "Name: Month, dtype: int64"
      ]
     },
     "execution_count": 9,
     "metadata": {},
     "output_type": "execute_result"
    }
   ],
   "source": [
    "# Converting column 'Month into dtype 'Category'.\n",
    "\n",
    "cold_storage.Month = pd.Categorical(cold_storage.Month)\n",
    "cold_storage.Month.value_counts()"
   ]
  },
  {
   "cell_type": "markdown",
   "id": "62c795da",
   "metadata": {},
   "source": [
    "#### Ques-1) Find mean cold storage temperature for Summer, Winter, and Rainy Season."
   ]
  },
  {
   "cell_type": "code",
   "execution_count": 10,
   "id": "bc0cf244",
   "metadata": {},
   "outputs": [],
   "source": [
    "Mean_temp_season = cold_storage.groupby('Season')['Temperature']"
   ]
  },
  {
   "cell_type": "code",
   "execution_count": 11,
   "id": "8d815df6",
   "metadata": {
    "scrolled": true
   },
   "outputs": [
    {
     "data": {
      "text/plain": [
       "Season\n",
       "Rainy     3.087705\n",
       "Summer    3.147500\n",
       "Winter    2.776423\n",
       "Name: Temperature, dtype: float64"
      ]
     },
     "execution_count": 11,
     "metadata": {},
     "output_type": "execute_result"
    }
   ],
   "source": [
    "Mean_temp_season.mean()"
   ]
  },
  {
   "cell_type": "code",
   "execution_count": 12,
   "id": "4ab92ef4",
   "metadata": {},
   "outputs": [
    {
     "data": {
      "text/html": [
       "<div>\n",
       "<style scoped>\n",
       "    .dataframe tbody tr th:only-of-type {\n",
       "        vertical-align: middle;\n",
       "    }\n",
       "\n",
       "    .dataframe tbody tr th {\n",
       "        vertical-align: top;\n",
       "    }\n",
       "\n",
       "    .dataframe thead th {\n",
       "        text-align: right;\n",
       "    }\n",
       "</style>\n",
       "<table border=\"1\" class=\"dataframe\">\n",
       "  <thead>\n",
       "    <tr style=\"text-align: right;\">\n",
       "      <th></th>\n",
       "      <th>count</th>\n",
       "      <th>mean</th>\n",
       "      <th>std</th>\n",
       "      <th>min</th>\n",
       "      <th>25%</th>\n",
       "      <th>50%</th>\n",
       "      <th>75%</th>\n",
       "      <th>max</th>\n",
       "    </tr>\n",
       "    <tr>\n",
       "      <th>Season</th>\n",
       "      <th></th>\n",
       "      <th></th>\n",
       "      <th></th>\n",
       "      <th></th>\n",
       "      <th></th>\n",
       "      <th></th>\n",
       "      <th></th>\n",
       "      <th></th>\n",
       "    </tr>\n",
       "  </thead>\n",
       "  <tbody>\n",
       "    <tr>\n",
       "      <th>Rainy</th>\n",
       "      <td>122.0</td>\n",
       "      <td>3.087705</td>\n",
       "      <td>0.527207</td>\n",
       "      <td>1.7</td>\n",
       "      <td>2.70</td>\n",
       "      <td>3.05</td>\n",
       "      <td>3.4</td>\n",
       "      <td>4.5</td>\n",
       "    </tr>\n",
       "    <tr>\n",
       "      <th>Summer</th>\n",
       "      <td>120.0</td>\n",
       "      <td>3.147500</td>\n",
       "      <td>0.351698</td>\n",
       "      <td>2.5</td>\n",
       "      <td>2.90</td>\n",
       "      <td>3.20</td>\n",
       "      <td>3.4</td>\n",
       "      <td>4.0</td>\n",
       "    </tr>\n",
       "    <tr>\n",
       "      <th>Winter</th>\n",
       "      <td>123.0</td>\n",
       "      <td>2.776423</td>\n",
       "      <td>0.414310</td>\n",
       "      <td>1.8</td>\n",
       "      <td>2.45</td>\n",
       "      <td>2.80</td>\n",
       "      <td>3.0</td>\n",
       "      <td>3.9</td>\n",
       "    </tr>\n",
       "  </tbody>\n",
       "</table>\n",
       "</div>"
      ],
      "text/plain": [
       "        count      mean       std  min   25%   50%  75%  max\n",
       "Season                                                      \n",
       "Rainy   122.0  3.087705  0.527207  1.7  2.70  3.05  3.4  4.5\n",
       "Summer  120.0  3.147500  0.351698  2.5  2.90  3.20  3.4  4.0\n",
       "Winter  123.0  2.776423  0.414310  1.8  2.45  2.80  3.0  3.9"
      ]
     },
     "execution_count": 12,
     "metadata": {},
     "output_type": "execute_result"
    }
   ],
   "source": [
    "Mean_temp_season.describe()"
   ]
  },
  {
   "cell_type": "markdown",
   "id": "3bd70b37",
   "metadata": {},
   "source": [
    "##### Inference: \n",
    "\n",
    "* From the above table we can make following observations:\n",
    "\n",
    "* The average cold storage temperature in summer season is highest that is 3.14.\n",
    "\n",
    "* Whereas average cold storage temperature in winter season seems lowest that is 2.77."
   ]
  },
  {
   "cell_type": "markdown",
   "id": "fc943701",
   "metadata": {},
   "source": [
    "#### Ques-2). Find the overall mean for the full year. \n"
   ]
  },
  {
   "cell_type": "code",
   "execution_count": 13,
   "id": "f7e82d91",
   "metadata": {},
   "outputs": [
    {
     "data": {
      "text/html": [
       "<div>\n",
       "<style scoped>\n",
       "    .dataframe tbody tr th:only-of-type {\n",
       "        vertical-align: middle;\n",
       "    }\n",
       "\n",
       "    .dataframe tbody tr th {\n",
       "        vertical-align: top;\n",
       "    }\n",
       "\n",
       "    .dataframe thead th {\n",
       "        text-align: right;\n",
       "    }\n",
       "</style>\n",
       "<table border=\"1\" class=\"dataframe\">\n",
       "  <thead>\n",
       "    <tr style=\"text-align: right;\">\n",
       "      <th></th>\n",
       "      <th>Date</th>\n",
       "      <th>Temperature</th>\n",
       "    </tr>\n",
       "  </thead>\n",
       "  <tbody>\n",
       "    <tr>\n",
       "      <th>count</th>\n",
       "      <td>365.000000</td>\n",
       "      <td>365.000000</td>\n",
       "    </tr>\n",
       "    <tr>\n",
       "      <th>mean</th>\n",
       "      <td>15.720548</td>\n",
       "      <td>3.002466</td>\n",
       "    </tr>\n",
       "    <tr>\n",
       "      <th>std</th>\n",
       "      <td>8.808321</td>\n",
       "      <td>0.465832</td>\n",
       "    </tr>\n",
       "    <tr>\n",
       "      <th>min</th>\n",
       "      <td>1.000000</td>\n",
       "      <td>1.700000</td>\n",
       "    </tr>\n",
       "    <tr>\n",
       "      <th>25%</th>\n",
       "      <td>8.000000</td>\n",
       "      <td>2.700000</td>\n",
       "    </tr>\n",
       "    <tr>\n",
       "      <th>50%</th>\n",
       "      <td>16.000000</td>\n",
       "      <td>3.000000</td>\n",
       "    </tr>\n",
       "    <tr>\n",
       "      <th>75%</th>\n",
       "      <td>23.000000</td>\n",
       "      <td>3.300000</td>\n",
       "    </tr>\n",
       "    <tr>\n",
       "      <th>max</th>\n",
       "      <td>31.000000</td>\n",
       "      <td>4.500000</td>\n",
       "    </tr>\n",
       "  </tbody>\n",
       "</table>\n",
       "</div>"
      ],
      "text/plain": [
       "             Date  Temperature\n",
       "count  365.000000   365.000000\n",
       "mean    15.720548     3.002466\n",
       "std      8.808321     0.465832\n",
       "min      1.000000     1.700000\n",
       "25%      8.000000     2.700000\n",
       "50%     16.000000     3.000000\n",
       "75%     23.000000     3.300000\n",
       "max     31.000000     4.500000"
      ]
     },
     "execution_count": 13,
     "metadata": {},
     "output_type": "execute_result"
    }
   ],
   "source": [
    "cold_storage.describe()"
   ]
  },
  {
   "cell_type": "code",
   "execution_count": 14,
   "id": "ad41073a",
   "metadata": {},
   "outputs": [
    {
     "data": {
      "text/plain": [
       "3.0024657534246546"
      ]
     },
     "execution_count": 14,
     "metadata": {},
     "output_type": "execute_result"
    }
   ],
   "source": [
    "cold_storage.Temperature.mean()"
   ]
  },
  {
   "cell_type": "markdown",
   "id": "d749cc32",
   "metadata": {},
   "source": [
    "#### Inference: \n",
    "\n",
    "* From the above table, it is evident that the overall mean temperature for the full year is 3.002."
   ]
  },
  {
   "cell_type": "markdown",
   "id": "85e97795",
   "metadata": {},
   "source": [
    "#### Ques-3) Find Standard Deviation for the full year."
   ]
  },
  {
   "cell_type": "code",
   "execution_count": 28,
   "id": "7191ad61",
   "metadata": {},
   "outputs": [
    {
     "data": {
      "text/html": [
       "<div>\n",
       "<style scoped>\n",
       "    .dataframe tbody tr th:only-of-type {\n",
       "        vertical-align: middle;\n",
       "    }\n",
       "\n",
       "    .dataframe tbody tr th {\n",
       "        vertical-align: top;\n",
       "    }\n",
       "\n",
       "    .dataframe thead th {\n",
       "        text-align: right;\n",
       "    }\n",
       "</style>\n",
       "<table border=\"1\" class=\"dataframe\">\n",
       "  <thead>\n",
       "    <tr style=\"text-align: right;\">\n",
       "      <th></th>\n",
       "      <th>Date</th>\n",
       "      <th>Temperature</th>\n",
       "    </tr>\n",
       "  </thead>\n",
       "  <tbody>\n",
       "    <tr>\n",
       "      <th>count</th>\n",
       "      <td>365.000000</td>\n",
       "      <td>365.000000</td>\n",
       "    </tr>\n",
       "    <tr>\n",
       "      <th>mean</th>\n",
       "      <td>15.720548</td>\n",
       "      <td>3.002466</td>\n",
       "    </tr>\n",
       "    <tr>\n",
       "      <th>std</th>\n",
       "      <td>8.808321</td>\n",
       "      <td>0.465832</td>\n",
       "    </tr>\n",
       "    <tr>\n",
       "      <th>min</th>\n",
       "      <td>1.000000</td>\n",
       "      <td>1.700000</td>\n",
       "    </tr>\n",
       "    <tr>\n",
       "      <th>25%</th>\n",
       "      <td>8.000000</td>\n",
       "      <td>2.700000</td>\n",
       "    </tr>\n",
       "    <tr>\n",
       "      <th>50%</th>\n",
       "      <td>16.000000</td>\n",
       "      <td>3.000000</td>\n",
       "    </tr>\n",
       "    <tr>\n",
       "      <th>75%</th>\n",
       "      <td>23.000000</td>\n",
       "      <td>3.300000</td>\n",
       "    </tr>\n",
       "    <tr>\n",
       "      <th>max</th>\n",
       "      <td>31.000000</td>\n",
       "      <td>4.500000</td>\n",
       "    </tr>\n",
       "  </tbody>\n",
       "</table>\n",
       "</div>"
      ],
      "text/plain": [
       "             Date  Temperature\n",
       "count  365.000000   365.000000\n",
       "mean    15.720548     3.002466\n",
       "std      8.808321     0.465832\n",
       "min      1.000000     1.700000\n",
       "25%      8.000000     2.700000\n",
       "50%     16.000000     3.000000\n",
       "75%     23.000000     3.300000\n",
       "max     31.000000     4.500000"
      ]
     },
     "execution_count": 28,
     "metadata": {},
     "output_type": "execute_result"
    }
   ],
   "source": [
    "cold_storage.describe()"
   ]
  },
  {
   "cell_type": "code",
   "execution_count": 15,
   "id": "894ef8fa",
   "metadata": {},
   "outputs": [
    {
     "data": {
      "text/plain": [
       "0.4658319416510761"
      ]
     },
     "execution_count": 15,
     "metadata": {},
     "output_type": "execute_result"
    }
   ],
   "source": [
    "cold_storage.Temperature.std()"
   ]
  },
  {
   "cell_type": "markdown",
   "id": "169f256f",
   "metadata": {},
   "source": [
    "Inference:\n",
    "\n",
    "* From the above table, we can observe that the standard deviation in temperature for the full year is 0.46."
   ]
  },
  {
   "cell_type": "markdown",
   "id": "d216a4d6",
   "metadata": {},
   "source": [
    "#### Ques-4) Assume Normal distribution, what is the probability of temperature having fallen below 2º C? "
   ]
  },
  {
   "cell_type": "code",
   "execution_count": 16,
   "id": "2dac9687",
   "metadata": {
    "scrolled": true
   },
   "outputs": [
    {
     "data": {
      "text/plain": [
       "Season         3\n",
       "Month          3\n",
       "Date           3\n",
       "Temperature    3\n",
       "dtype: int64"
      ]
     },
     "execution_count": 16,
     "metadata": {},
     "output_type": "execute_result"
    }
   ],
   "source": [
    "cold_storage[cold_storage.Temperature<2].count()"
   ]
  },
  {
   "cell_type": "code",
   "execution_count": 17,
   "id": "66652e18",
   "metadata": {},
   "outputs": [
    {
     "data": {
      "text/plain": [
       "0.821917808219178"
      ]
     },
     "execution_count": 17,
     "metadata": {},
     "output_type": "execute_result"
    }
   ],
   "source": [
    "# Counting probability of temperature having fallen below 2 degree celcius.\n",
    "\n",
    "(3/365)*100"
   ]
  },
  {
   "cell_type": "markdown",
   "id": "bdea9f09",
   "metadata": {},
   "source": [
    "#### Inference: \n",
    "\n",
    "* From the above calculation we can say that the probability of temperature having fallen below 2 degree celcius is only 0.8%."
   ]
  },
  {
   "cell_type": "markdown",
   "id": "291e2a4e",
   "metadata": {},
   "source": [
    "#### Ques-5) Assume Normal distribution, what is the probability of temperature having gone above 4º C? \n",
    "\n"
   ]
  },
  {
   "cell_type": "code",
   "execution_count": 18,
   "id": "2fcd57ac",
   "metadata": {},
   "outputs": [
    {
     "data": {
      "text/plain": [
       "Season         7\n",
       "Month          7\n",
       "Date           7\n",
       "Temperature    7\n",
       "dtype: int64"
      ]
     },
     "execution_count": 18,
     "metadata": {},
     "output_type": "execute_result"
    }
   ],
   "source": [
    "cold_storage[cold_storage.Temperature>4].count()"
   ]
  },
  {
   "cell_type": "code",
   "execution_count": 19,
   "id": "d0b71d53",
   "metadata": {},
   "outputs": [
    {
     "data": {
      "text/plain": [
       "1.9178082191780823"
      ]
     },
     "execution_count": 19,
     "metadata": {},
     "output_type": "execute_result"
    }
   ],
   "source": [
    "# Counting probability of temperature having gone above 4 degree celcius.\n",
    "\n",
    "(7/365)*100"
   ]
  },
  {
   "cell_type": "markdown",
   "id": "5094bd81",
   "metadata": {},
   "source": [
    "#### Inference:\n",
    "\n",
    "* From the above calculation, we can conclude that the probability of temperature having gone above 4 degree celcius is only 1.92%."
   ]
  },
  {
   "cell_type": "markdown",
   "id": "64a7ea62",
   "metadata": {},
   "source": [
    "#### Ques-6) What will be the penalty for the AMC Company? \n"
   ]
  },
  {
   "cell_type": "markdown",
   "id": "b9c80864",
   "metadata": {},
   "source": [
    "#### Since, the total probability of temperature going outside of 2 degree i.e.(0.8%) and 4 degree celcius i.e.(1.91%) which on adding becomes 2.71%, therefore we can conclude that there will be 10% penalty for the AMC company because of the penalty conditions mentioned in the contract.  "
   ]
  },
  {
   "cell_type": "code",
   "execution_count": null,
   "id": "a873abfe",
   "metadata": {},
   "outputs": [],
   "source": [
    "\n",
    "\n",
    "\n",
    "\n"
   ]
  },
  {
   "cell_type": "markdown",
   "id": "969a7f3f",
   "metadata": {},
   "source": [
    "#### Problem 2) In Mar 2018, Cold Storage started getting complaints from their clients that they have been getting complaints from end consumers of the dairy products going sour and often smelling. On getting these complaints, the supervisor pulls out data of the last 35 days’ temperatures. As a safety measure, the Supervisor has been vigilant to maintain the mean temperature 3.9º C or below. Assume 3.9º C as the upper acceptable mean temperature and at alpha = 0.1 do you feel that there is a need for some corrective action in the Cold Storage Plant or is it that the problem is from the procurement side from where Cold Storage is getting the Dairy Products. The data of the last 35 days is in “Cold_Storage_Mar2018_.csv”\n",
    "\n",
    "#### 1. Which Hypothesis test shall be performed to check if corrective action is needed at the cold storage plant? Justify your answer. (6 marks)\n",
    "#### 2. State the Hypothesis and do the necessary calculations to accept or reject the corresponding null hypothesis. (8 marks)\n",
    "#### 3. Give your inference. (6 marks)\n",
    "#### Dataset to be used for Problem 2: Cold_Storage_Mar2018_.csv"
   ]
  },
  {
   "cell_type": "code",
   "execution_count": 20,
   "id": "f8c3ceb8",
   "metadata": {},
   "outputs": [],
   "source": [
    "## Loading dataset for problem 2.\n",
    "\n",
    "cold_storage_march = pd.read_csv('D:\\\\Study\\\\Data Science and Machine Learning\\\\Great_learning course\\\\Main content\\\\Module2-  SMDM- Statistical Methods For Decision Making\\\\Week 4- Project\\\\Cold_Storage_Mar2018_ (1).csv')"
   ]
  },
  {
   "cell_type": "code",
   "execution_count": 21,
   "id": "29e21eea",
   "metadata": {},
   "outputs": [
    {
     "data": {
      "text/html": [
       "<div>\n",
       "<style scoped>\n",
       "    .dataframe tbody tr th:only-of-type {\n",
       "        vertical-align: middle;\n",
       "    }\n",
       "\n",
       "    .dataframe tbody tr th {\n",
       "        vertical-align: top;\n",
       "    }\n",
       "\n",
       "    .dataframe thead th {\n",
       "        text-align: right;\n",
       "    }\n",
       "</style>\n",
       "<table border=\"1\" class=\"dataframe\">\n",
       "  <thead>\n",
       "    <tr style=\"text-align: right;\">\n",
       "      <th></th>\n",
       "      <th>Season</th>\n",
       "      <th>Month</th>\n",
       "      <th>Date</th>\n",
       "      <th>Temperature</th>\n",
       "    </tr>\n",
       "  </thead>\n",
       "  <tbody>\n",
       "    <tr>\n",
       "      <th>0</th>\n",
       "      <td>Summer</td>\n",
       "      <td>Feb</td>\n",
       "      <td>11</td>\n",
       "      <td>4.0</td>\n",
       "    </tr>\n",
       "    <tr>\n",
       "      <th>1</th>\n",
       "      <td>Summer</td>\n",
       "      <td>Feb</td>\n",
       "      <td>12</td>\n",
       "      <td>3.9</td>\n",
       "    </tr>\n",
       "    <tr>\n",
       "      <th>2</th>\n",
       "      <td>Summer</td>\n",
       "      <td>Feb</td>\n",
       "      <td>13</td>\n",
       "      <td>3.9</td>\n",
       "    </tr>\n",
       "    <tr>\n",
       "      <th>3</th>\n",
       "      <td>Summer</td>\n",
       "      <td>Feb</td>\n",
       "      <td>14</td>\n",
       "      <td>4.0</td>\n",
       "    </tr>\n",
       "    <tr>\n",
       "      <th>4</th>\n",
       "      <td>Summer</td>\n",
       "      <td>Feb</td>\n",
       "      <td>15</td>\n",
       "      <td>3.8</td>\n",
       "    </tr>\n",
       "  </tbody>\n",
       "</table>\n",
       "</div>"
      ],
      "text/plain": [
       "   Season Month  Date   Temperature \n",
       "0  Summer   Feb    11            4.0\n",
       "1  Summer   Feb    12            3.9\n",
       "2  Summer   Feb    13            3.9\n",
       "3  Summer   Feb    14            4.0\n",
       "4  Summer   Feb    15            3.8"
      ]
     },
     "execution_count": 21,
     "metadata": {},
     "output_type": "execute_result"
    }
   ],
   "source": [
    "# Checking top 5 counts of the data set.\n",
    "\n",
    "cold_storage_march.head()"
   ]
  },
  {
   "cell_type": "code",
   "execution_count": 22,
   "id": "70810537",
   "metadata": {},
   "outputs": [
    {
     "data": {
      "text/plain": [
       "Index(['Season', 'Month', 'Date', ' Temperature '], dtype='object')"
      ]
     },
     "execution_count": 22,
     "metadata": {},
     "output_type": "execute_result"
    }
   ],
   "source": [
    "cold_storage_march.columns"
   ]
  },
  {
   "cell_type": "code",
   "execution_count": 23,
   "id": "89968e84",
   "metadata": {},
   "outputs": [
    {
     "name": "stdout",
     "output_type": "stream",
     "text": [
      "<class 'pandas.core.frame.DataFrame'>\n",
      "RangeIndex: 35 entries, 0 to 34\n",
      "Data columns (total 4 columns):\n",
      " #   Column         Non-Null Count  Dtype  \n",
      "---  ------         --------------  -----  \n",
      " 0   Season         35 non-null     object \n",
      " 1   Month          35 non-null     object \n",
      " 2   Date           35 non-null     int64  \n",
      " 3    Temperature   35 non-null     float64\n",
      "dtypes: float64(1), int64(1), object(2)\n",
      "memory usage: 1.2+ KB\n"
     ]
    }
   ],
   "source": [
    "#  Checking data information.\n",
    "cold_storage_march.info()"
   ]
  },
  {
   "cell_type": "code",
   "execution_count": 24,
   "id": "1b109eb4",
   "metadata": {},
   "outputs": [
    {
     "data": {
      "text/html": [
       "<div>\n",
       "<style scoped>\n",
       "    .dataframe tbody tr th:only-of-type {\n",
       "        vertical-align: middle;\n",
       "    }\n",
       "\n",
       "    .dataframe tbody tr th {\n",
       "        vertical-align: top;\n",
       "    }\n",
       "\n",
       "    .dataframe thead th {\n",
       "        text-align: right;\n",
       "    }\n",
       "</style>\n",
       "<table border=\"1\" class=\"dataframe\">\n",
       "  <thead>\n",
       "    <tr style=\"text-align: right;\">\n",
       "      <th></th>\n",
       "      <th>Date</th>\n",
       "      <th>Temperature</th>\n",
       "    </tr>\n",
       "  </thead>\n",
       "  <tbody>\n",
       "    <tr>\n",
       "      <th>count</th>\n",
       "      <td>35.000000</td>\n",
       "      <td>35.000000</td>\n",
       "    </tr>\n",
       "    <tr>\n",
       "      <th>mean</th>\n",
       "      <td>14.400000</td>\n",
       "      <td>3.974286</td>\n",
       "    </tr>\n",
       "    <tr>\n",
       "      <th>std</th>\n",
       "      <td>7.389181</td>\n",
       "      <td>0.159674</td>\n",
       "    </tr>\n",
       "    <tr>\n",
       "      <th>min</th>\n",
       "      <td>1.000000</td>\n",
       "      <td>3.800000</td>\n",
       "    </tr>\n",
       "    <tr>\n",
       "      <th>25%</th>\n",
       "      <td>9.500000</td>\n",
       "      <td>3.900000</td>\n",
       "    </tr>\n",
       "    <tr>\n",
       "      <th>50%</th>\n",
       "      <td>14.000000</td>\n",
       "      <td>3.900000</td>\n",
       "    </tr>\n",
       "    <tr>\n",
       "      <th>75%</th>\n",
       "      <td>19.500000</td>\n",
       "      <td>4.100000</td>\n",
       "    </tr>\n",
       "    <tr>\n",
       "      <th>max</th>\n",
       "      <td>28.000000</td>\n",
       "      <td>4.600000</td>\n",
       "    </tr>\n",
       "  </tbody>\n",
       "</table>\n",
       "</div>"
      ],
      "text/plain": [
       "            Date   Temperature \n",
       "count  35.000000      35.000000\n",
       "mean   14.400000       3.974286\n",
       "std     7.389181       0.159674\n",
       "min     1.000000       3.800000\n",
       "25%     9.500000       3.900000\n",
       "50%    14.000000       3.900000\n",
       "75%    19.500000       4.100000\n",
       "max    28.000000       4.600000"
      ]
     },
     "execution_count": 24,
     "metadata": {},
     "output_type": "execute_result"
    }
   ],
   "source": [
    "# Checking statistical summary of the data set.\n",
    "\n",
    "cold_storage_march.describe()"
   ]
  },
  {
   "cell_type": "code",
   "execution_count": 25,
   "id": "020e8ff7",
   "metadata": {},
   "outputs": [],
   "source": [
    "cold_temp = cold_storage_march[' Temperature ']"
   ]
  },
  {
   "cell_type": "markdown",
   "id": "7546873f",
   "metadata": {},
   "source": [
    "#### 1. Which Hypothesis test shall be performed to check if corrective action is needed at the cold storage plant? Justify your answer."
   ]
  },
  {
   "cell_type": "markdown",
   "id": "1d1a2075",
   "metadata": {},
   "source": [
    "#### Answer-1) To check if the corrective action is needed at the cold storage plant, we'll need to perform 'One-tailed Hypothesis test' due to the following reasons:  \n",
    "\n",
    "* We need to perform test on one samples since we do not have the population standard deviation. \n",
    "\n",
    "* Sample size is greater than 30.\n",
    "\n",
    "* We have to use the t-distribution and $t_{stat}$ test statistic for one sample. \n",
    "\n"
   ]
  },
  {
   "cell_type": "markdown",
   "id": "5d2200b9",
   "metadata": {},
   "source": [
    "#### 2.  State the Hypothesis and do the necessary calculations to accept or reject the corresponding null hypothesis."
   ]
  },
  {
   "cell_type": "markdown",
   "id": "a1941ad0",
   "metadata": {},
   "source": [
    "#### Step 1 : Deciding the Null and Alternate Hypothesis."
   ]
  },
  {
   "cell_type": "markdown",
   "id": "1e380bcb",
   "metadata": {},
   "source": [
    "#### Null Hypothesis '$H_0$' = mean temperature of the cold storage is less than or equal to 3.9 degree celcius or 'corrective action is not needed at cold storage'.\n",
    "\n",
    "* $H_0$ = $\\mu$ $\\leq$ '3.9 degree celcius'\n",
    "\n",
    "#### Alternative Hypothesis '$H_A$' = mean temperature of the cold storage is greater than 3.9 or 'corrective action is needed at cold storage'.\n",
    "\n",
    "* $H_A$ = $\\mu$ $\\gt$ '3.9 degree celcius' "
   ]
  },
  {
   "cell_type": "markdown",
   "id": "1937712d",
   "metadata": {},
   "source": [
    "#### Step 2 : Decide the Significance Level\n",
    "\n",
    "* Here we select, alpha '$\\alpha$' = 0.01"
   ]
  },
  {
   "cell_type": "markdown",
   "id": "4b61b3f8",
   "metadata": {},
   "source": [
    "#### Step 3 : Identify the test statistic "
   ]
  },
  {
   "cell_type": "markdown",
   "id": "81bb8119",
   "metadata": {},
   "source": [
    "* We are performing test on one sample and we do not have the population standard deviation. \n",
    "\n",
    "* Sample size is greater than 30.\n",
    "\n",
    "* We have to use the t-distribution and $t_{stat}$ test statistic for one sample. "
   ]
  },
  {
   "cell_type": "markdown",
   "id": "60557da5",
   "metadata": {},
   "source": [
    "#### Step 4 : Calculate the p_value and test statistic. "
   ]
  },
  {
   "cell_type": "code",
   "execution_count": 26,
   "id": "aee3c02b",
   "metadata": {},
   "outputs": [
    {
     "name": "stdout",
     "output_type": "stream",
     "text": [
      "one sample t-test \n",
      "\"t_statistic\" : 2.752358609800241, \"p_value\" : 0.009422395404264431\n"
     ]
    }
   ],
   "source": [
    "## one sample t-test.\n",
    "\n",
    "## null_hypothesis: expected mean value = 3.9\n",
    "\n",
    "t_statistic, p_value = ttest_1samp(cold_temp,3.9)\n",
    "\n",
    "print('one sample t-test \\n\"t_statistic\" : {0}, \"p_value\" : {1}'.format(t_statistic,p_value))"
   ]
  },
  {
   "cell_type": "markdown",
   "id": "9589b7d6",
   "metadata": {},
   "source": [
    "#### Ques-3) Decide to reject or accept the null hypothesis."
   ]
  },
  {
   "cell_type": "markdown",
   "id": "0c949f58",
   "metadata": {},
   "source": [
    "#### Inference-3)"
   ]
  },
  {
   "cell_type": "code",
   "execution_count": 27,
   "id": "3f7ff6ae",
   "metadata": {},
   "outputs": [
    {
     "name": "stdout",
     "output_type": "stream",
     "text": [
      "Level of Significance: 0.01\n",
      "Since p_value is less than Level of Significance, we have enough evidence to reject the null hypothesis, therefore \"corrective action is needed at cold storage\".\n"
     ]
    }
   ],
   "source": [
    "alpha_value = 0.01 # Level of Significance\n",
    "print('Level of Significance: %.2f' %alpha_value)\n",
    "if p_value < alpha_value : \n",
    "    print('Since p_value is less than Level of Significance, we have enough evidence to reject the null hypothesis, therefore \"corrective action is needed at cold storage\".')\n",
    "else:\n",
    "    print('Since p_value is more than Level of Significance, we do not have enough evidence to reject the null hypothesis, therefore \"corrective action is not needed at cold storage\".')\n",
    "\n"
   ]
  }
 ],
 "metadata": {
  "kernelspec": {
   "display_name": "Python 3",
   "language": "python",
   "name": "python3"
  },
  "language_info": {
   "codemirror_mode": {
    "name": "ipython",
    "version": 3
   },
   "file_extension": ".py",
   "mimetype": "text/x-python",
   "name": "python",
   "nbconvert_exporter": "python",
   "pygments_lexer": "ipython3",
   "version": "3.8.8"
  }
 },
 "nbformat": 4,
 "nbformat_minor": 5
}
